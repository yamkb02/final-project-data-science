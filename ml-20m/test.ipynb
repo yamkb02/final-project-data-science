{
 "cells": [
  {
   "cell_type": "code",
   "execution_count": 25,
   "metadata": {},
   "outputs": [
    {
     "name": "stdout",
     "output_type": "stream",
     "text": [
      "### links.csv\n",
      "| Column Name     | Row 1      | Row 2      |\n",
      "|---------------|----------|----------|\n",
      "| movieId         | 1          | 2          |\n",
      "| imdbId          | 114709     | 113497     |\n",
      "| tmdbId          | 862        | 8844       |\n",
      "\n",
      "----------------------------------------\n",
      "\n",
      "### movies.csv\n",
      "| Column Name     | Row 1      | Row 2      |\n",
      "|---------------|----------|----------|\n",
      "| movieId         | 1          | 2          |\n",
      "| title           | Toy Story (1995) | Jumanji (1995) |\n",
      "| genres          | Adventure|Animation|Children|Comedy|Fantasy | Adventure|Children|Fantasy |\n",
      "\n",
      "----------------------------------------\n",
      "\n",
      "### ratings.csv\n",
      "| Column Name     | Row 1      | Row 2      |\n",
      "|---------------|----------|----------|\n",
      "| userId          | 1          | 1          |\n",
      "| movieId         | 2          | 29         |\n",
      "| rating          | 3.5        | 3.5        |\n",
      "| timestamp       | 1112486027 | 1112484676 |\n",
      "\n",
      "----------------------------------------\n",
      "\n",
      "### tags.csv\n",
      "| Column Name     | Row 1      | Row 2      |\n",
      "|---------------|----------|----------|\n",
      "| userId          | 18         | 65         |\n",
      "| movieId         | 4141       | 208        |\n",
      "| tag             | Mark Waters | dark hero  |\n",
      "| timestamp       | 1240597180 | 1368150078 |\n",
      "\n",
      "----------------------------------------\n",
      "\n"
     ]
    }
   ],
   "source": [
    "import os\n",
    "import pandas as pd\n",
    "\n",
    "# Get all CSV files in the current directory\n",
    "csv_files = [f for f in os.listdir('.') if f.endswith('.csv')]\n",
    "\n",
    "# Loop through each CSV and print column names and first 2 rows\n",
    "for csv in csv_files:\n",
    "    print(f\"### {csv}\")\n",
    "    # Read the first two rows of the CSV file\n",
    "    df = pd.read_csv(csv, nrows=2)\n",
    "    \n",
    "    # Print column names\n",
    "    columns = df.columns.tolist()\n",
    "    print(f\"| {'Column Name':<15} | {'Row 1':<10} | {'Row 2':<10} |\")\n",
    "    print(f\"|{'-'*15}|{'-'*10}|{'-'*10}|\")\n",
    "    \n",
    "    # Print the values from the first two rows for each column\n",
    "    for column in columns:\n",
    "        row1 = df[column].iloc[0]\n",
    "        row2 = df[column].iloc[1]\n",
    "        print(f\"| {column:<15} | {row1:<10} | {row2:<10} |\")\n",
    "    \n",
    "    print(\"\\n\" + \"-\"*40 + \"\\n\")\n"
   ]
  },
  {
   "cell_type": "code",
   "execution_count": null,
   "metadata": {},
   "outputs": [],
   "source": []
  },
  {
   "cell_type": "code",
   "execution_count": 3,
   "metadata": {},
   "outputs": [
    {
     "name": "stdout",
     "output_type": "stream",
     "text": [
      "Filtered datasets saved as:\n",
      "filtered_links.csv\n",
      "filtered_movies.csv\n",
      "filtered_ratings.csv\n",
      "filtered_tags.csv\n"
     ]
    }
   ],
   "source": [
    "import pandas as pd\n",
    "import random\n",
    "import re\n",
    "\n",
    "# Function to extract the year from the movie title\n",
    "def extract_year(title):\n",
    "    # Use regular expression to extract the year within parentheses, e.g., 'Toy Story (1995)' -> 1995\n",
    "    match = re.search(r'\\((\\d{4})\\)', title)\n",
    "    return int(match.group(1)) if match else None\n",
    "\n",
    "# Function to process datasets considering all data from 2010 onwards\n",
    "def process_datasets(random_seed=42):\n",
    "    random.seed(random_seed)\n",
    "    \n",
    "    # Load all CSVs into pandas DataFrames\n",
    "    links_df = pd.read_csv('links.csv')\n",
    "    movies_df = pd.read_csv('movies.csv')\n",
    "    ratings_df = pd.read_csv('ratings.csv')\n",
    "    tags_df = pd.read_csv('tags.csv')\n",
    "    \n",
    "    # Extract the release year from the 'title' column\n",
    "    movies_df['year'] = movies_df['title'].apply(extract_year)\n",
    "    \n",
    "    # Filter movies released in 2010 or later\n",
    "    movies_df = movies_df[movies_df['year'] >= 2005]\n",
    "    \n",
    "    # Keep only the movieIds from the filtered movies\n",
    "    filtered_movie_ids = movies_df['movieId'].tolist()\n",
    "    \n",
    "    # Filter the DataFrames based on the movieIds from 2010 onwards\n",
    "    filtered_links_df = links_df[links_df['movieId'].isin(filtered_movie_ids)]\n",
    "    filtered_movies_df = movies_df\n",
    "    filtered_ratings_df = ratings_df[ratings_df['movieId'].isin(filtered_movie_ids)]\n",
    "    filtered_tags_df = tags_df[tags_df['movieId'].isin(filtered_movie_ids)]\n",
    "    \n",
    "    # Save the filtered datasets to new CSV files\n",
    "    filtered_links_df.to_csv('filtered_links.csv', index=False)\n",
    "    filtered_movies_df.to_csv('filtered_movies.csv', index=False)\n",
    "    filtered_ratings_df.to_csv('filtered_ratings.csv', index=False)\n",
    "    filtered_tags_df.to_csv('filtered_tags.csv', index=False)\n",
    "    \n",
    "    print(\"Filtered datasets saved as:\")\n",
    "    print(\"filtered_links.csv\")\n",
    "    print(\"filtered_movies.csv\")\n",
    "    print(\"filtered_ratings.csv\")\n",
    "    print(\"filtered_tags.csv\")\n",
    "\n",
    "# Call the function to process the datasets\n",
    "process_datasets()  # No sample size, uses all data"
   ]
  },
  {
   "cell_type": "code",
   "execution_count": 4,
   "metadata": {},
   "outputs": [
    {
     "name": "stdout",
     "output_type": "stream",
     "text": [
      "Deleted original file: links.csv\n",
      "Deleted original file: movies.csv\n",
      "Deleted original file: ratings.csv\n",
      "Deleted original file: tags.csv\n",
      "Renamed filtered_links.csv to links.csv\n",
      "Renamed filtered_movies.csv to movies.csv\n",
      "Renamed filtered_ratings.csv to ratings.csv\n",
      "Renamed filtered_tags.csv to tags.csv\n"
     ]
    }
   ],
   "source": [
    "\n",
    "import os\n",
    "\n",
    "# List of original filenames and the filtered filenames\n",
    "original_files = ['links.csv', 'movies.csv', 'ratings.csv', 'tags.csv']\n",
    "filtered_files = ['filtered_links.csv', 'filtered_movies.csv', 'filtered_ratings.csv', 'filtered_tags.csv']\n",
    "\n",
    "# Delete the original files\n",
    "for original_file in original_files:\n",
    "    if os.path.exists(original_file):\n",
    "        os.remove(original_file)\n",
    "        print(f\"Deleted original file: {original_file}\")\n",
    "    else:\n",
    "        print(f\"Original file not found: {original_file}\")\n",
    "\n",
    "# Rename the filtered files to the original names\n",
    "for original_file, filtered_file in zip(original_files, filtered_files):\n",
    "    if os.path.exists(filtered_file):\n",
    "        os.rename(filtered_file, original_file)\n",
    "        print(f\"Renamed {filtered_file} to {original_file}\")\n",
    "    else:\n",
    "        print(f\"Filtered file not found: {filtered_file}\")\n",
    "\n"
   ]
  }
 ],
 "metadata": {
  "kernelspec": {
   "display_name": "base",
   "language": "python",
   "name": "python3"
  },
  "language_info": {
   "codemirror_mode": {
    "name": "ipython",
    "version": 3
   },
   "file_extension": ".py",
   "mimetype": "text/x-python",
   "name": "python",
   "nbconvert_exporter": "python",
   "pygments_lexer": "ipython3",
   "version": "3.12.4"
  }
 },
 "nbformat": 4,
 "nbformat_minor": 2
}
