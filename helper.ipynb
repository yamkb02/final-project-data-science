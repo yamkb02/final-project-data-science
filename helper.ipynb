{
 "cells": [
  {
   "cell_type": "code",
   "execution_count": 1,
   "metadata": {},
   "outputs": [
    {
     "name": "stdout",
     "output_type": "stream",
     "text": [
      "File: genome-scores.csv\n",
      "Header and first two rows:\n",
      "   movieId  tagId  relevance\n",
      "0        1      1      0.025\n",
      "1        1      2      0.025\n",
      "\n",
      "\n",
      "File: genome-tags.csv\n",
      "Header and first two rows:\n",
      "   tagId           tag\n",
      "0      1           007\n",
      "1      2  007 (series)\n",
      "\n",
      "\n",
      "File: links.csv\n",
      "Header and first two rows:\n",
      "   movieId  imdbId  tmdbId\n",
      "0        1  114709   862.0\n",
      "1        2  113497  8844.0\n",
      "\n",
      "\n",
      "File: movies.csv\n",
      "Header and first two rows:\n",
      "   movieId             title                                       genres\n",
      "0        1  Toy Story (1995)  Adventure|Animation|Children|Comedy|Fantasy\n",
      "1        2    Jumanji (1995)                   Adventure|Children|Fantasy\n",
      "\n",
      "\n",
      "File: ratings.csv\n",
      "Header and first two rows:\n",
      "   userId  movieId  rating   timestamp\n",
      "0       1        2     3.5  1112486027\n",
      "1       1       29     3.5  1112484676\n",
      "\n",
      "\n",
      "File: tags.csv\n",
      "Header and first two rows:\n",
      "   userId  movieId          tag   timestamp\n",
      "0      18     4141  Mark Waters  1240597180\n",
      "1      65      208    dark hero  1368150078\n",
      "\n",
      "\n"
     ]
    }
   ],
   "source": [
    "import os\n",
    "import pandas as pd\n",
    "\n",
    "# List all files in the current directory\n",
    "files = os.listdir('.')\n",
    "\n",
    "# Filter out CSV files\n",
    "csv_files = [file for file in files if file.endswith('.csv')]\n",
    "\n",
    "# Display header and first two rows of each CSV file\n",
    "for csv_file in csv_files:\n",
    "    print(f\"File: {csv_file}\")\n",
    "    df = pd.read_csv(csv_file)\n",
    "    print(\"Header and first two rows:\")\n",
    "    print(df.head(2))\n",
    "    print(\"\\n\")"
   ]
  },
  {
   "cell_type": "code",
   "execution_count": 7,
   "metadata": {},
   "outputs": [
    {
     "name": "stdout",
     "output_type": "stream",
     "text": [
      "Requirement already satisfied: pyarrow in c:\\users\\mark\\appdata\\local\\anaconda3\\lib\\site-packages (14.0.2)\n",
      "Requirement already satisfied: numpy>=1.16.6 in c:\\users\\mark\\appdata\\local\\anaconda3\\lib\\site-packages (from pyarrow) (1.26.4)\n",
      "Note: you may need to restart the kernel to use updated packages.\n"
     ]
    }
   ],
   "source": [
    "pip install pyarrow"
   ]
  }
 ],
 "metadata": {
  "kernelspec": {
   "display_name": "base",
   "language": "python",
   "name": "python3"
  },
  "language_info": {
   "codemirror_mode": {
    "name": "ipython",
    "version": 3
   },
   "file_extension": ".py",
   "mimetype": "text/x-python",
   "name": "python",
   "nbconvert_exporter": "python",
   "pygments_lexer": "ipython3",
   "version": "3.12.4"
  }
 },
 "nbformat": 4,
 "nbformat_minor": 2
}
